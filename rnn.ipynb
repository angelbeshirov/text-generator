{
 "cells": [
  {
   "cell_type": "markdown",
   "metadata": {
    "id": "7XVkwnArlV9E"
   },
   "source": [
    "# Notebook for text generation from bulgarian sources\n",
    "\n",
    "## The text is being generated using Recurrent Neural Network (LSTM/GRU cell)"
   ]
  },
  {
   "cell_type": "code",
   "execution_count": 2,
   "metadata": {
    "id": "O1plCP1rlV9L"
   },
   "outputs": [],
   "source": [
    "import tensorflow as tf\n",
    "import tensorflow_datasets as tfds\n",
    "from tensorflow.keras.layers.experimental import preprocessing\n",
    "\n",
    "import matplotlib.pyplot as plt\n",
    "import numpy as np\n",
    "import os\n",
    "import time\n",
    "import logging\n",
    "\n",
    "tf.get_logger().setLevel(logging.ERROR)"
   ]
  },
  {
   "cell_type": "code",
   "execution_count": 5,
   "metadata": {
    "id": "bXl5ko1LLH-Z"
   },
   "outputs": [],
   "source": [
    "def decode(x):\n",
    "    return x.numpy().decode('utf-8')"
   ]
  },
  {
   "cell_type": "code",
   "execution_count": 106,
   "metadata": {
    "id": "1XGEgRGjc-qX"
   },
   "outputs": [],
   "source": [
    "TRAIN=True\n",
    "DATASET=0\n",
    "COLAB=True"
   ]
  },
  {
   "cell_type": "code",
   "execution_count": 107,
   "metadata": {
    "id": "7ekgftJWLH-a"
   },
   "outputs": [],
   "source": [
    "if DATASET == 0:\n",
    "    path_to_file = './data/dataset_vazov.txt'\n",
    "elif DATASET == 1:\n",
    "    path_to_file = './data/dataset_wikipedia.txt'"
   ]
  },
  {
   "cell_type": "code",
   "execution_count": 108,
   "metadata": {
    "colab": {
     "base_uri": "https://localhost:8080/"
    },
    "id": "pS5KN7qRLH-a",
    "outputId": "35e5b843-1185-460d-c32f-03351cf62baa"
   },
   "outputs": [
    {
     "name": "stdout",
     "output_type": "stream",
     "text": [
      "Drive already mounted at /content/gdrive; to attempt to forcibly remount, call drive.mount(\"/content/gdrive\", force_remount=True).\n"
     ]
    }
   ],
   "source": [
    "if COLAB == True:\n",
    "    from google.colab import drive \n",
    "    drive.mount('/content/gdrive')\n",
    "    path_to_file = '/content/gdrive/My Drive/' + path_to_file"
   ]
  },
  {
   "cell_type": "code",
   "execution_count": 109,
   "metadata": {
    "id": "NHxnm2rElV9L"
   },
   "outputs": [],
   "source": [
    "text = open(path_to_file, 'rb').read().decode(encoding='utf-8')"
   ]
  },
  {
   "cell_type": "code",
   "execution_count": 110,
   "metadata": {
    "colab": {
     "base_uri": "https://localhost:8080/"
    },
    "id": "iB86fCQolV9N",
    "outputId": "45dd4851-fb30-4443-835e-0069861da797"
   },
   "outputs": [
    {
     "name": "stdout",
     "output_type": "stream",
     "text": [
      "﻿\tИван Вазов\r\n",
      "\tЕпопея на забравените\r\n",
      "\r\n",
      "\tЛевски\r\n",
      "\r\n",
      "\tМанастирът тесен за мойта душа е.\r\n",
      "\tКога човек дойде тук да се покае,\r\n",
      "\tтрябва да забрави греховния мир,\r\n",
      "\tда бяга съблазни и да търси мир.\r\n",
      "\tМойта съвест инак днеска ми говори.\r\n",
      "\tТова расо черно, що нося отгоре,\r\n",
      "\tне ме помирява с тия небеса\r\n",
      "\tи когато в храма дигна си гласа\r\n",
      "\tхимн да пея богу, да получа раят,\r\n",
      "\tмисля, че той слуша тия, що ридая\n"
     ]
    }
   ],
   "source": [
    "print(text[:400])"
   ]
  },
  {
   "cell_type": "code",
   "execution_count": 111,
   "metadata": {
    "colab": {
     "base_uri": "https://localhost:8080/"
    },
    "id": "lWk9z6oJlV9O",
    "outputId": "4199d2a6-9d03-4737-8f9f-603e7e4f74a3"
   },
   "outputs": [
    {
     "name": "stdout",
     "output_type": "stream",
     "text": [
      "153 unique characters\n",
      "['\\t', '\\n', '\\r', ' ', '!', '#', '(', ')', '*', ',', '-', '.', '0', '1', '2', '3', '4', '5', '6', '7', '8', '9', ':', ';', '>', '?', 'A', 'B', 'C', 'D', 'E', 'F', 'G', 'H', 'I', 'J', 'L', 'M', 'N', 'O', 'P', 'Q', 'R', 'S', 'T', 'V', 'X', '[', ']', '_', '`', 'a', 'b', 'c', 'd', 'e', 'f', 'g', 'h', 'i', 'j', 'k', 'l', 'm', 'n', 'o', 'p', 'q', 'r', 's', 't', 'u', 'v', 'w', 'x', 'y', 'z', '«', 'µ', '»', 'à', 'è', 'é', 'ê', 'ò', 'ù', 'А', 'Б', 'В', 'Г', 'Д', 'Е', 'Ж', 'З', 'И', 'Й', 'К', 'Л', 'М', 'Н', 'О', 'П', 'Р', 'С', 'Т', 'У', 'Ф', 'Х', 'Ц', 'Ч', 'Ш', 'Щ', 'Ю', 'Я', 'а', 'б', 'в', 'г', 'д', 'е', 'ж', 'з', 'и', 'й', 'к', 'л', 'м', 'н', 'о', 'п', 'р', 'с', 'т', 'у', 'ф', 'х', 'ц', 'ч', 'ш', 'щ', 'ъ', 'ы', 'ь', 'ю', 'я', 'ё', 'ґ', '—', '’', '“', '„', '…', '\\ufeff']\n"
     ]
    }
   ],
   "source": [
    "vocab = sorted(set(text))\n",
    "print('{} unique characters'.format(len(vocab)))\n",
    "print(vocab)"
   ]
  },
  {
   "cell_type": "code",
   "execution_count": 112,
   "metadata": {
    "id": "DoZyfhXX52_J"
   },
   "outputs": [],
   "source": [
    "example_text = ['Тогава', 'когато', 'дойде']\n",
    "chars = tf.strings.unicode_split(example_text, input_encoding='UTF-8')"
   ]
  },
  {
   "cell_type": "code",
   "execution_count": 113,
   "metadata": {
    "id": "lCOKoe8AlV9P"
   },
   "outputs": [],
   "source": [
    "chars_to_ids = preprocessing.StringLookup(vocabulary=list(vocab))"
   ]
  },
  {
   "cell_type": "code",
   "execution_count": 114,
   "metadata": {
    "id": "SwOwOB2P52_K"
   },
   "outputs": [],
   "source": [
    "complete_vocabulary=chars_to_ids.get_vocabulary()"
   ]
  },
  {
   "cell_type": "code",
   "execution_count": 115,
   "metadata": {
    "id": "XeSDnmkmlV9Q"
   },
   "outputs": [],
   "source": [
    "ids_to_chars = tf.keras.layers.experimental.preprocessing.StringLookup(\n",
    "    vocabulary=chars_to_ids.get_vocabulary(), invert=True)"
   ]
  },
  {
   "cell_type": "code",
   "execution_count": 116,
   "metadata": {
    "colab": {
     "base_uri": "https://localhost:8080/"
    },
    "id": "qLXpTx9SlV9Q",
    "outputId": "b897e5e9-10ef-4086-a705-38ab78deaf4e"
   },
   "outputs": [
    {
     "data": {
      "text/plain": [
       "<tf.RaggedTensor [[106, 130, 119, 116, 118, 116], [126, 130, 119, 116, 134, 130], [120, 130, 125, 120, 121]]>"
      ]
     },
     "execution_count": 116,
     "metadata": {
      "tags": []
     },
     "output_type": "execute_result"
    }
   ],
   "source": [
    "ids = chars_to_ids(chars)\n",
    "ids"
   ]
  },
  {
   "cell_type": "code",
   "execution_count": 117,
   "metadata": {
    "colab": {
     "base_uri": "https://localhost:8080/"
    },
    "id": "2Z1m52s5lV9Q",
    "outputId": "40362f3b-e15e-4a11-be46-6abe566cb267"
   },
   "outputs": [
    {
     "name": "stdout",
     "output_type": "stream",
     "text": [
      "[['Т', 'о', 'г', 'а', 'в', 'а'], ['к', 'о', 'г', 'а', 'т', 'о'], ['д', 'о', 'й', 'д', 'е']]\n",
      "<tf.RaggedTensor [[b'\\xd0\\xa2', b'\\xd0\\xbe', b'\\xd0\\xb3', b'\\xd0\\xb0', b'\\xd0\\xb2', b'\\xd0\\xb0'], [b'\\xd0\\xba', b'\\xd0\\xbe', b'\\xd0\\xb3', b'\\xd0\\xb0', b'\\xd1\\x82', b'\\xd0\\xbe'], [b'\\xd0\\xb4', b'\\xd0\\xbe', b'\\xd0\\xb9', b'\\xd0\\xb4', b'\\xd0\\xb5']]>\n"
     ]
    }
   ],
   "source": [
    "print([[decode(x) for x in y] for y in chars]) # Decoded UTF-8 characters\n",
    "print(chars)"
   ]
  },
  {
   "cell_type": "code",
   "execution_count": 118,
   "metadata": {
    "id": "aXbs7P8clV9R"
   },
   "outputs": [],
   "source": [
    "def ids_to_text(ids):\n",
    "      return tf.strings.reduce_join(ids_to_chars(ids), axis=-1)"
   ]
  },
  {
   "cell_type": "code",
   "execution_count": 119,
   "metadata": {
    "colab": {
     "base_uri": "https://localhost:8080/"
    },
    "id": "kXrOM9E_lV9R",
    "outputId": "c3e50bf1-4ed1-4686-89ee-c5c2eb1d7042"
   },
   "outputs": [
    {
     "data": {
      "text/plain": [
       "<tf.Tensor: shape=(719235,), dtype=int64, numpy=array([154,   2,  96, ...,   6,   4,   3])>"
      ]
     },
     "execution_count": 119,
     "metadata": {
      "tags": []
     },
     "output_type": "execute_result"
    }
   ],
   "source": [
    "all_ids = chars_to_ids(tf.strings.unicode_split(text, 'UTF-8'))\n",
    "all_ids"
   ]
  },
  {
   "cell_type": "code",
   "execution_count": 120,
   "metadata": {
    "id": "EucKX8SrlV9R"
   },
   "outputs": [],
   "source": [
    "# Create the dataset from indexed chars\n",
    "all_ids_dataset = tf.data.Dataset.from_tensor_slices(all_ids)"
   ]
  },
  {
   "cell_type": "code",
   "execution_count": 121,
   "metadata": {
    "colab": {
     "base_uri": "https://localhost:8080/"
    },
    "id": "TKYJnmiilV9S",
    "outputId": "dbe4c8c1-6447-41c1-b343-3a1344859db8"
   },
   "outputs": [
    {
     "name": "stdout",
     "output_type": "stream",
     "text": [
      "﻿\n",
      "\t\n",
      "И\n",
      "в\n",
      "а\n",
      "н\n",
      " \n",
      "В\n",
      "а\n",
      "з\n",
      "о\n",
      "в\n"
     ]
    }
   ],
   "source": [
    "for ids in all_ids_dataset.take(12):\n",
    "    print(decode(ids_to_chars(ids)))"
   ]
  },
  {
   "cell_type": "code",
   "execution_count": 122,
   "metadata": {
    "id": "Q9MGGcdTlV9S"
   },
   "outputs": [],
   "source": [
    "seq_length = 200"
   ]
  },
  {
   "cell_type": "code",
   "execution_count": 123,
   "metadata": {
    "colab": {
     "base_uri": "https://localhost:8080/"
    },
    "id": "DfrDM-l7lV9T",
    "outputId": "9c70ad79-24ac-428a-fe02-4b80ef3b8d9c"
   },
   "outputs": [
    {
     "name": "stdout",
     "output_type": "stream",
     "text": [
      "﻿\tИван Вазов\r\n",
      "\tЕпопея на забравените\r\n",
      "\r\n",
      "\tЛевски\r\n",
      "\r\n",
      "\tМанастирът тесен за мойта душа е.\r\n",
      "\tКога човек дойде тук да се покае,\r\n",
      "\tтрябва да забрави греховния мир,\r\n",
      "\tда бяга съблазни и да търси мир.\r\n",
      "\tМойта с\n"
     ]
    }
   ],
   "source": [
    "sequences = all_ids_dataset.batch(seq_length+1, drop_remainder=True)\n",
    "\n",
    "for seq in sequences.take(1):\n",
    "      print(decode(tf.strings.join(ids_to_chars(seq))))"
   ]
  },
  {
   "cell_type": "code",
   "execution_count": 124,
   "metadata": {
    "colab": {
     "base_uri": "https://localhost:8080/"
    },
    "id": "dw9s5-HwlV9T",
    "outputId": "4d824f84-8bef-4d25-c4c1-4532d10074d1"
   },
   "outputs": [
    {
     "name": "stdout",
     "output_type": "stream",
     "text": [
      "﻿\tИван Вазов\r\n",
      "\tЕпопея на забравените\r\n",
      "\r\n",
      "\tЛевски\r\n",
      "\r\n",
      "\tМанастирът тесен за мойта душа е.\r\n",
      "\tКога човек дойде тук да се покае,\r\n",
      "\tтрябва да забрави греховния мир,\r\n",
      "\tда бяга съблазни и да търси мир.\r\n",
      "\tМойта с\n",
      "--------------------------------------------------------------------------------\n",
      "ъвест инак днеска ми говори.\r\n",
      "\tТова расо черно, що нося отгоре,\r\n",
      "\tне ме помирява с тия небеса\r\n",
      "\tи когато в храма дигна си гласа\r\n",
      "\tхимн да пея богу, да получа раят,\r\n",
      "\tмисля, че той слуша тия, що ридаят\r\n",
      "--------------------------------------------------------------------------------\n",
      "\n",
      "\tв тоя дол плачевни, живот нестърпим.\r\n",
      "\tИ мойта молитва се губи кат дим,\r\n",
      "\tи господ сърдит си затуля ухото\r\n",
      "\tна светата песен и херувикото*.\r\n",
      "\t[* Църковна песен.]\r\n",
      "\r\n",
      "\tМисля, че вратата на небесний рай\n",
      "--------------------------------------------------------------------------------\n",
      "\r\n",
      "\tна къде изглеждат никой ги не знай,\r\n",
      "\tче не таз килия извожда нататък,\r\n",
      "\tче из света шумен пътят е по-кратък,\r\n",
      "\tче сълзите чисти, че вдовишкий плач,\r\n",
      "\tче потът почтенний на простий орач,\r\n",
      "\tче благат\n",
      "--------------------------------------------------------------------------------\n",
      "а дума, че правото дело,\r\n",
      "\tче светата правда, изказана смело,\r\n",
      "\tче ръката братска, без гордост, без вик\r\n",
      "\tподадена скришно на някой клетник,\r\n",
      "\tса много по-мили на господа вишни\r\n",
      "\tот всичките химни и тр\n",
      "--------------------------------------------------------------------------------\n"
     ]
    }
   ],
   "source": [
    "for seq in sequences.take(5):\n",
    "    print(decode(ids_to_text(seq)))\n",
    "    print('-'*80)"
   ]
  },
  {
   "cell_type": "code",
   "execution_count": 125,
   "metadata": {
    "id": "xVXreDXVlV9T"
   },
   "outputs": [],
   "source": [
    "def generate_target(sequence):\n",
    "    input_text = sequence[:-1]\n",
    "    target_text = sequence[1:]\n",
    "    return input_text, target_text"
   ]
  },
  {
   "cell_type": "code",
   "execution_count": 126,
   "metadata": {
    "colab": {
     "base_uri": "https://localhost:8080/"
    },
    "id": "zGxM-2dmlV9U",
    "outputId": "9e6e1a8b-97ce-49f4-ff72-5d106d29152e"
   },
   "outputs": [
    {
     "name": "stdout",
     "output_type": "stream",
     "text": [
      "(['t', 'e', 's', 't', '1', '2'], ['e', 's', 't', '1', '2', '3'])\n"
     ]
    }
   ],
   "source": [
    "print(generate_target(list(\"test123\")))"
   ]
  },
  {
   "cell_type": "code",
   "execution_count": 127,
   "metadata": {
    "id": "8JnYY_dylV9U"
   },
   "outputs": [],
   "source": [
    "dataset = sequences.map(generate_target)"
   ]
  },
  {
   "cell_type": "code",
   "execution_count": 128,
   "metadata": {
    "colab": {
     "base_uri": "https://localhost:8080/"
    },
    "id": "753-rmBqlV9U",
    "outputId": "a3de1cea-d249-41d2-d419-a3e4bc223611"
   },
   "outputs": [
    {
     "name": "stdout",
     "output_type": "stream",
     "text": [
      "Input text:\n",
      " ﻿\tИван Вазов\r\n",
      "\tЕпопея на забравените\r\n",
      "\r\n",
      "\tЛевски\r\n",
      "\r\n",
      "\tМанастирът тесен за мойта душа е.\r\n",
      "\tКога човек дойде тук да се покае,\r\n",
      "\tтрябва да забрави греховния мир,\r\n",
      "\tда бяга съблазни и да търси мир.\r\n",
      "\tМойта \n",
      "Target text:\n",
      " \tИван Вазов\r\n",
      "\tЕпопея на забравените\r\n",
      "\r\n",
      "\tЛевски\r\n",
      "\r\n",
      "\tМанастирът тесен за мойта душа е.\r\n",
      "\tКога човек дойде тук да се покае,\r\n",
      "\tтрябва да забрави греховния мир,\r\n",
      "\tда бяга съблазни и да търси мир.\r\n",
      "\tМойта с\n",
      "Step #0\n",
      "Input: 154 (﻿)\n",
      "Target output: 2 (\t)\n",
      "\n",
      "Step #1\n",
      "Input: 2 (\t)\n",
      "Target output: 96 (И)\n",
      "\n",
      "Step #2\n",
      "Input: 96 (И)\n",
      "Target output: 118 (в)\n",
      "\n",
      "Step #3\n",
      "Input: 118 (в)\n",
      "Target output: 116 (а)\n",
      "\n",
      "Step #4\n",
      "Input: 116 (а)\n",
      "Target output: 129 (н)\n",
      "\n",
      "Step #5\n",
      "Input: 129 (н)\n",
      "Target output: 5 ( )\n",
      "\n"
     ]
    }
   ],
   "source": [
    "for input_txt, target_txt in  dataset.take(1):\n",
    "    print(\"Input text:\\n\", decode(ids_to_text(input_txt)))\n",
    "    print(\"Target text:\\n\", decode(ids_to_text(target_txt)))\n",
    "\n",
    "for i, (input_idx, target_idx) in enumerate(zip(input_txt[:6], target_txt[:6])):\n",
    "    print('Step #{}'.format(i))\n",
    "    print('Input: {} ({})'.format(input_idx, decode(ids_to_chars(input_idx))))\n",
    "    print('Target output: {} ({})'.format(target_idx, decode(ids_to_chars(target_idx))))\n",
    "    print()"
   ]
  },
  {
   "cell_type": "code",
   "execution_count": 129,
   "metadata": {
    "colab": {
     "base_uri": "https://localhost:8080/"
    },
    "id": "XbFDQ_NbLH-h",
    "outputId": "ad61c414-4263-42c5-ee9f-0b7aec1c1caa"
   },
   "outputs": [
    {
     "name": "stdout",
     "output_type": "stream",
     "text": [
      "Input text:\n",
      " ﻿\tИван Вазов\r\n",
      "\tЕпопея на забравените\r\n",
      "\r\n",
      "\tЛевски\r\n",
      "\r\n",
      "\tМанастирът тесен за мойта душа е.\r\n",
      "\tКога човек дойде тук да се покае,\r\n",
      "\tтрябва да забрави греховния мир,\r\n",
      "\tда бяга съблазни и да търси мир.\r\n",
      "\tМойта \n",
      "Target text:\n",
      " \tИван Вазов\r\n",
      "\tЕпопея на забравените\r\n",
      "\r\n",
      "\tЛевски\r\n",
      "\r\n",
      "\tМанастирът тесен за мойта душа е.\r\n",
      "\tКога човек дойде тук да се покае,\r\n",
      "\tтрябва да забрави греховния мир,\r\n",
      "\tда бяга съблазни и да търси мир.\r\n",
      "\tМойта с\n"
     ]
    }
   ],
   "source": [
    "for input_txt, target_txt in  dataset.take(1):\n",
    "    print(\"Input text:\\n\", decode(ids_to_text(input_txt)))\n",
    "    print(\"Target text:\\n\", decode(ids_to_text(target_txt)))"
   ]
  },
  {
   "cell_type": "code",
   "execution_count": 130,
   "metadata": {
    "colab": {
     "base_uri": "https://localhost:8080/"
    },
    "id": "S55dIFXylV9U",
    "outputId": "0b57b9f4-4fe5-4934-ae48-17dcf6712faa"
   },
   "outputs": [
    {
     "data": {
      "text/plain": [
       "<PrefetchDataset shapes: ((64, 200), (64, 200)), types: (tf.int64, tf.int64)>"
      ]
     },
     "execution_count": 130,
     "metadata": {
      "tags": []
     },
     "output_type": "execute_result"
    }
   ],
   "source": [
    "BATCH_SIZE = 64\n",
    "BUFFER_SIZE = 300\n",
    "PREFETCH_SIZE = 10\n",
    "\n",
    "dataset_train = (\n",
    "    dataset\n",
    "    .shuffle(BUFFER_SIZE)\n",
    "    .batch(BATCH_SIZE, drop_remainder=True)\n",
    "    .prefetch(PREFETCH_SIZE))\n",
    "\n",
    "dataset_train"
   ]
  },
  {
   "cell_type": "code",
   "execution_count": 131,
   "metadata": {
    "colab": {
     "base_uri": "https://localhost:8080/"
    },
    "id": "BIj_qROcLH-i",
    "outputId": "92004c0f-5921-4a95-8d6a-fd0eaca1de59"
   },
   "outputs": [
    {
     "data": {
      "text/plain": [
       "<TakeDataset shapes: ((64, 200), (64, 200)), types: (tf.int64, tf.int64)>"
      ]
     },
     "execution_count": 131,
     "metadata": {
      "tags": []
     },
     "output_type": "execute_result"
    }
   ],
   "source": [
    "# Use first 5 batches for testing\n",
    "# More can be used depending on the dataset\n",
    "dataset_test = dataset_train.take(5)\n",
    "dataset_train = dataset_train.skip(5)\n",
    "\n",
    "dataset_test"
   ]
  },
  {
   "cell_type": "code",
   "execution_count": 132,
   "metadata": {
    "id": "VYbT90v7lV9V"
   },
   "outputs": [],
   "source": [
    "# Length of the vocabulary in chars\n",
    "vocabulary_size = len(complete_vocabulary)\n",
    "\n",
    "# The embedding dimension\n",
    "embedding_dimension = 256\n",
    "\n",
    "# Number of RNN units\n",
    "rnn_units = 1024"
   ]
  },
  {
   "cell_type": "code",
   "execution_count": 133,
   "metadata": {
    "id": "C-ufRkchlV9V"
   },
   "outputs": [],
   "source": [
    "class RNNModel(tf.keras.Model):\n",
    "    def __init__(self, vocabulary_size, embedding_dimension, rnn_units, name=None):\n",
    "        super().__init__(self)\n",
    "        self.vocabulary_size = vocabulary_size\n",
    "        self.embedding_dimension = embedding_dimension\n",
    "        self.rnn_units = rnn_units\n",
    "\n",
    "        self.embedding = tf.keras.layers.Embedding(vocabulary_size, \n",
    "                                                   embedding_dimension, batch_input_shape=[BATCH_SIZE, None])\n",
    "        self.gru = tf.keras.layers.GRU(rnn_units, \n",
    "                                       return_sequences=True, return_state=True)\n",
    "        \n",
    "        self.dense = tf.keras.layers.Dense(vocabulary_size)\n",
    "\n",
    "    def call(self, inputs, states=None, return_state=False, training=False):\n",
    "        x = inputs\n",
    "        x = self.embedding(x, training=training)\n",
    "        if states is None:\n",
    "            states = self.gru.get_initial_state(x)\n",
    "        x, states = self.gru(x, initial_state=states, training=training)\n",
    "        x = self.dense(x, training=training)\n",
    "\n",
    "        if return_state:\n",
    "            return x, states\n",
    "        else: \n",
    "            return x\n",
    "\n",
    "    def build_graph(self):\n",
    "        graph = tf.keras.models.Sequential()\n",
    "\n",
    "        graph.add(self.embedding)\n",
    "\n",
    "        graph.add(tf.keras.layers.GRU(\n",
    "          units=self.rnn_units,\n",
    "          return_sequences=True,\n",
    "          stateful=True,\n",
    "          recurrent_initializer=tf.keras.initializers.GlorotNormal()\n",
    "        ))\n",
    "\n",
    "        graph.add(self.dense)\n",
    "      \n",
    "        return graph"
   ]
  },
  {
   "cell_type": "code",
   "execution_count": 134,
   "metadata": {
    "id": "qchZr3EylV9W"
   },
   "outputs": [],
   "source": [
    "model = RNNModel(\n",
    "    vocabulary_size=len(chars_to_ids.get_vocabulary()),\n",
    "    embedding_dimension=embedding_dimension,\n",
    "    rnn_units=rnn_units)"
   ]
  },
  {
   "cell_type": "code",
   "execution_count": 135,
   "metadata": {
    "colab": {
     "base_uri": "https://localhost:8080/"
    },
    "id": "N5gREdr-lV9W",
    "outputId": "6f9ac4be-8fc2-46c0-f633-45f8a13d1b14"
   },
   "outputs": [
    {
     "name": "stdout",
     "output_type": "stream",
     "text": [
      "(64, 200) (batch_size, sequence_length)\n",
      "(64, 200, 155) (batch_size, sequence_length, vocab_size)\n"
     ]
    }
   ],
   "source": [
    "for input_example_batch, target_example_batch in dataset_train.take(1):\n",
    "    example_batch_predictions = model(input_example_batch)\n",
    "    print(input_example_batch.shape, \"(batch_size, sequence_length)\")\n",
    "    print(example_batch_predictions.shape, \"(batch_size, sequence_length, vocab_size)\")"
   ]
  },
  {
   "cell_type": "code",
   "execution_count": 136,
   "metadata": {
    "colab": {
     "base_uri": "https://localhost:8080/"
    },
    "id": "h6aijZkQlV9W",
    "outputId": "deb36ee5-6408-4cfc-cc15-236ee4dd45bb"
   },
   "outputs": [
    {
     "name": "stdout",
     "output_type": "stream",
     "text": [
      "Model: \"rnn_model_2\"\n",
      "_________________________________________________________________\n",
      "Layer (type)                 Output Shape              Param #   \n",
      "=================================================================\n",
      "embedding_2 (Embedding)      multiple                  39680     \n",
      "_________________________________________________________________\n",
      "gru_4 (GRU)                  multiple                  3938304   \n",
      "_________________________________________________________________\n",
      "dense_2 (Dense)              multiple                  158875    \n",
      "=================================================================\n",
      "Total params: 4,136,859\n",
      "Trainable params: 4,136,859\n",
      "Non-trainable params: 0\n",
      "_________________________________________________________________\n"
     ]
    }
   ],
   "source": [
    "model.summary()"
   ]
  },
  {
   "cell_type": "code",
   "execution_count": 137,
   "metadata": {
    "colab": {
     "base_uri": "https://localhost:8080/",
     "height": 422
    },
    "id": "0LE43xSa1TmI",
    "outputId": "16b54089-b101-4694-c03d-5a13b22a0244"
   },
   "outputs": [
    {
     "data": {
      "image/png": "[encoded data removed]",
      "text/plain": [
       "<IPython.core.display.Image object>"
      ]
     },
     "execution_count": 137,
     "metadata": {
      "tags": []
     },
     "output_type": "execute_result"
    }
   ],
   "source": [
    "tf.keras.utils.plot_model(\n",
    "    model.build_graph(),\n",
    "    show_shapes=True,\n",
    "    show_layer_names=True,\n",
    ")"
   ]
  },
  {
   "cell_type": "code",
   "execution_count": 138,
   "metadata": {
    "colab": {
     "base_uri": "https://localhost:8080/"
    },
    "id": "Y_iSL-MelV9W",
    "outputId": "db969b84-cb54-4d5e-eb42-316b768cfd73"
   },
   "outputs": [
    {
     "data": {
      "text/plain": [
       "200"
      ]
     },
     "execution_count": 138,
     "metadata": {
      "tags": []
     },
     "output_type": "execute_result"
    }
   ],
   "source": [
    "sampled_indices = tf.random.categorical(example_batch_predictions[0], num_samples=1)\n",
    "sampled_indices = tf.squeeze(sampled_indices,axis=-1).numpy()\n",
    "len(sampled_indices)"
   ]
  },
  {
   "cell_type": "code",
   "execution_count": 139,
   "metadata": {
    "colab": {
     "base_uri": "https://localhost:8080/"
    },
    "id": "wMTw2l4jlV9X",
    "outputId": "e94c19f0-a621-4fc0-9949-132f25467e78"
   },
   "outputs": [
    {
     "data": {
      "text/plain": [
       "array([107,   1, 146,  51,  92,  20,  11,  42,  23, 128,  48, 121,  44,\n",
       "       107, 130,   9,  10,  15,  34, 130,  36,   5,  98, 134,  57,  39,\n",
       "       140,  62, 119,  10, 106,  50,  20, 101,   3, 129,  10,  76,  59,\n",
       "        97, 121, 142,  24,  53,  46,  95,  17,  48, 120, 123,  21,  79,\n",
       "       140, 150,  27,  16,  83,  23,  70,  77, 137, 114,  91,  30,  50,\n",
       "        48, 130,  89,  89,  59,   2,  65,  31, 111,  87,   2,  18,  30,\n",
       "        80,  59, 134, 111,  60, 113,  83, 116,  94,  71,  92, 119,  83,\n",
       "        91, 108,  30, 139,  67, 130,  61,  52, 136, 115,  53,  97, 148,\n",
       "       121,  31,  55, 124, 153,  72,  53,  37,  73,  20, 111, 120,  79,\n",
       "       144, 131,  11,  24,  83, 110, 109,  66, 148, 104, 140,  42, 141,\n",
       "        96,   2,  97, 104, 125, 115, 115,  92,  78,   7,  93,  79,  60,\n",
       "       110,  72,   3, 111,  60,  41,  74,  42,  84,  48,  54,  51,  77,\n",
       "       104, 140,  75,  95,  41,  26, 105,  19,  69,  55, 118, 107, 153,\n",
       "        50,  55, 113,  27, 137, 120,  32, 130,  65, 135,  33,  30, 148,\n",
       "        95, 106,  67,  79, 136,  13,   5, 137, 145, 128,  37, 117,  14,\n",
       "        71, 145,  73,  26, 139])"
      ]
     },
     "execution_count": 139,
     "metadata": {
      "tags": []
     },
     "output_type": "execute_result"
    }
   ],
   "source": [
    "sampled_indices"
   ]
  },
  {
   "cell_type": "code",
   "execution_count": 140,
   "metadata": {
    "colab": {
     "base_uri": "https://localhost:8080/"
    },
    "id": "jID2nlHllV9X",
    "outputId": "f6d36b85-0efd-48b3-96b1-4b0d4c110eaf"
   },
   "outputs": [
    {
     "name": "stdout",
     "output_type": "stream",
     "text": [
      "Input:\n",
      " мен\r\n",
      "\tнищо ми не вричат\r\n",
      "\tи декември с май засмен\r\n",
      "\tв нищо не отличат.\r\n",
      "\r\n",
      "\tСкоро ще се разшумят\r\n",
      "\tдолини, горички\r\n",
      "\tи цветя ще се явят\r\n",
      "\tведно с лястовички.\r\n",
      "\r\n",
      "\tВедро небе ще синей\r\n",
      "\tнад златното слън\n",
      "\n",
      "Predictions:\n",
      " У[UNK]я_Д6,P9мXеRУо)*1GоI КтeMшjг*Т]6Н\n",
      "н*xgЙеъ:aTЗ3Xдз7«ш’?2è9ryхЮГC]XоББg\tmDЧù\t4CµgтЧhЩèаЖsДгèГФCчoоi`фЯaЙґеDcи…taJu6Чд«ьп,:èЦХnґРшPщИ\tЙРйЯЯДz#Е«hЦt\n",
      "ЧhOvPéXb_yРшwЗO>С5qcвУ…]cЩ?хдEоmуFCґЗТo«ф. хюмJб0sюu>ч\n"
     ]
    }
   ],
   "source": [
    "print(\"Input:\\n\", decode(ids_to_text(input_example_batch[0])))\n",
    "print()\n",
    "print(\"Predictions:\\n\", decode(ids_to_text(sampled_indices)))"
   ]
  },
  {
   "cell_type": "code",
   "execution_count": 141,
   "metadata": {
    "id": "f1RNaA6VlV9X"
   },
   "outputs": [],
   "source": [
    "loss = tf.losses.SparseCategoricalCrossentropy(from_logits=True)"
   ]
  },
  {
   "cell_type": "code",
   "execution_count": 142,
   "metadata": {
    "colab": {
     "base_uri": "https://localhost:8080/"
    },
    "id": "Tmn355g8lV9X",
    "outputId": "81a683dd-5881-463b-9af4-01e8be8033ac"
   },
   "outputs": [
    {
     "name": "stdout",
     "output_type": "stream",
     "text": [
      "Prediction shape:  (64, 200, 155)  # (batch_size, sequence_length, vocab_size)\n",
      "Mean loss:         5.0441785\n"
     ]
    }
   ],
   "source": [
    "example_batch_loss = loss(target_example_batch, example_batch_predictions)\n",
    "mean_loss = example_batch_loss.numpy().mean()\n",
    "print(\"Prediction shape: \", example_batch_predictions.shape, \" # (batch_size, sequence_length, vocab_size)\")\n",
    "print(\"Mean loss:        \", mean_loss)"
   ]
  },
  {
   "cell_type": "code",
   "execution_count": 143,
   "metadata": {
    "colab": {
     "base_uri": "https://localhost:8080/"
    },
    "id": "IZQhcdWtlV9Y",
    "outputId": "b4fd7e24-b5f8-4457-871a-e26a53d012ef"
   },
   "outputs": [
    {
     "data": {
      "text/plain": [
       "155.1168"
      ]
     },
     "execution_count": 143,
     "metadata": {
      "tags": []
     },
     "output_type": "execute_result"
    }
   ],
   "source": [
    "tf.exp(mean_loss).numpy()"
   ]
  },
  {
   "cell_type": "code",
   "execution_count": 144,
   "metadata": {
    "id": "u58_JIiDlV9Y"
   },
   "outputs": [],
   "source": [
    "model.compile(optimizer='adam', loss=loss, metrics=[\"accuracy\"])"
   ]
  },
  {
   "cell_type": "code",
   "execution_count": 145,
   "metadata": {
    "id": "4lY2-ogelV9Y"
   },
   "outputs": [],
   "source": [
    "checkpoint_directory = './best_models'\n",
    "# Name of the checkpoint files - add suffix the epoch\n",
    "checkpoint_prefix = os.path.join(checkpoint_directory, \"ckpt_{epoch}\")\n",
    "\n",
    "checkpoint_callback = tf.keras.callbacks.ModelCheckpoint(\n",
    "    filepath=checkpoint_prefix,\n",
    "    save_freq=500,\n",
    "    save_weights_only=True)"
   ]
  },
  {
   "cell_type": "code",
   "execution_count": 146,
   "metadata": {
    "id": "sfqEc610lV9Y"
   },
   "outputs": [],
   "source": [
    "EPOCHS = 150\n",
    "STEPS_PER_EPOCH = 2"
   ]
  },
  {
   "cell_type": "code",
   "execution_count": 147,
   "metadata": {
    "colab": {
     "base_uri": "https://localhost:8080/"
    },
    "id": "_aRSLQ1hlV9Z",
    "outputId": "a80acc1b-f1d4-49c1-c4f3-1e652a41626c"
   },
   "outputs": [
    {
     "name": "stdout",
     "output_type": "stream",
     "text": [
      "Epoch 1/150\n",
      "50/50 [==============================] - 7s 111ms/step - loss: 4.2341 - accuracy: 0.1529\n",
      "Epoch 2/150\n",
      "50/50 [==============================] - 6s 112ms/step - loss: 2.5266 - accuracy: 0.3044\n",
      "Epoch 3/150\n",
      "50/50 [==============================] - 6s 113ms/step - loss: 2.2918 - accuracy: 0.3219\n",
      "Epoch 4/150\n",
      "50/50 [==============================] - 6s 112ms/step - loss: 2.2086 - accuracy: 0.3381\n",
      "Epoch 5/150\n",
      "50/50 [==============================] - 6s 114ms/step - loss: 2.1497 - accuracy: 0.3531\n",
      "Epoch 6/150\n",
      "50/50 [==============================] - 6s 113ms/step - loss: 2.0941 - accuracy: 0.3725\n",
      "Epoch 7/150\n",
      "50/50 [==============================] - 6s 113ms/step - loss: 2.0443 - accuracy: 0.3883\n",
      "Epoch 8/150\n",
      "50/50 [==============================] - 6s 114ms/step - loss: 1.9948 - accuracy: 0.4038\n",
      "Epoch 9/150\n",
      "50/50 [==============================] - 6s 114ms/step - loss: 1.9368 - accuracy: 0.4205\n",
      "Epoch 10/150\n",
      "50/50 [==============================] - 6s 116ms/step - loss: 1.8824 - accuracy: 0.4344\n",
      "Epoch 11/150\n",
      "50/50 [==============================] - 6s 114ms/step - loss: 1.8263 - accuracy: 0.4495\n",
      "Epoch 12/150\n",
      "50/50 [==============================] - 6s 114ms/step - loss: 1.7738 - accuracy: 0.4627\n",
      "Epoch 13/150\n",
      "50/50 [==============================] - 6s 114ms/step - loss: 1.7288 - accuracy: 0.4736\n",
      "Epoch 14/150\n",
      "50/50 [==============================] - 6s 114ms/step - loss: 1.6824 - accuracy: 0.4868\n",
      "Epoch 15/150\n",
      "50/50 [==============================] - 6s 114ms/step - loss: 1.6401 - accuracy: 0.4972\n",
      "Epoch 16/150\n",
      "50/50 [==============================] - 6s 115ms/step - loss: 1.6038 - accuracy: 0.5063\n",
      "Epoch 17/150\n",
      "50/50 [==============================] - 6s 115ms/step - loss: 1.5638 - accuracy: 0.5174\n",
      "Epoch 18/150\n",
      "50/50 [==============================] - 6s 114ms/step - loss: 1.5313 - accuracy: 0.5252\n",
      "Epoch 19/150\n",
      "50/50 [==============================] - 6s 115ms/step - loss: 1.4965 - accuracy: 0.5353\n",
      "Epoch 20/150\n",
      "50/50 [==============================] - 6s 116ms/step - loss: 1.4644 - accuracy: 0.5444\n",
      "Epoch 21/150\n",
      "50/50 [==============================] - 6s 115ms/step - loss: 1.4308 - accuracy: 0.5549\n",
      "Epoch 22/150\n",
      "50/50 [==============================] - 6s 115ms/step - loss: 1.3963 - accuracy: 0.5649\n",
      "Epoch 23/150\n",
      "50/50 [==============================] - 6s 115ms/step - loss: 1.3654 - accuracy: 0.5744\n",
      "Epoch 24/150\n",
      "50/50 [==============================] - 6s 116ms/step - loss: 1.3291 - accuracy: 0.5857\n",
      "Epoch 25/150\n",
      "50/50 [==============================] - 6s 114ms/step - loss: 1.2909 - accuracy: 0.5965\n",
      "Epoch 26/150\n",
      "50/50 [==============================] - 6s 116ms/step - loss: 1.2572 - accuracy: 0.6082\n",
      "Epoch 27/150\n",
      "50/50 [==============================] - 6s 116ms/step - loss: 1.2131 - accuracy: 0.6217\n",
      "Epoch 28/150\n",
      "50/50 [==============================] - 6s 116ms/step - loss: 1.1761 - accuracy: 0.6353\n",
      "Epoch 29/150\n",
      "50/50 [==============================] - 6s 116ms/step - loss: 1.1335 - accuracy: 0.6492\n",
      "Epoch 30/150\n",
      "50/50 [==============================] - 6s 118ms/step - loss: 1.0893 - accuracy: 0.6642\n",
      "Epoch 31/150\n",
      "50/50 [==============================] - 6s 116ms/step - loss: 1.0445 - accuracy: 0.6802\n",
      "Epoch 32/150\n",
      "50/50 [==============================] - 6s 115ms/step - loss: 0.9979 - accuracy: 0.6970\n",
      "Epoch 33/150\n",
      "50/50 [==============================] - 6s 116ms/step - loss: 0.9434 - accuracy: 0.7148\n",
      "Epoch 34/150\n",
      "50/50 [==============================] - 6s 115ms/step - loss: 0.8943 - accuracy: 0.7317\n",
      "Epoch 35/150\n",
      "50/50 [==============================] - 6s 116ms/step - loss: 0.8413 - accuracy: 0.7500\n",
      "Epoch 36/150\n",
      "50/50 [==============================] - 6s 116ms/step - loss: 0.7923 - accuracy: 0.7672\n",
      "Epoch 37/150\n",
      "50/50 [==============================] - 6s 116ms/step - loss: 0.7553 - accuracy: 0.7804\n",
      "Epoch 38/150\n",
      "50/50 [==============================] - 6s 116ms/step - loss: 0.7045 - accuracy: 0.7975\n",
      "Epoch 39/150\n",
      "50/50 [==============================] - 6s 115ms/step - loss: 0.6572 - accuracy: 0.8139\n",
      "Epoch 40/150\n",
      "50/50 [==============================] - 6s 119ms/step - loss: 0.6283 - accuracy: 0.8233\n",
      "Epoch 41/150\n",
      "50/50 [==============================] - 6s 117ms/step - loss: 0.5894 - accuracy: 0.8346\n",
      "Epoch 42/150\n",
      "50/50 [==============================] - 6s 117ms/step - loss: 0.5624 - accuracy: 0.8439\n",
      "Epoch 43/150\n",
      "50/50 [==============================] - 6s 117ms/step - loss: 0.5288 - accuracy: 0.8536\n",
      "Epoch 44/150\n",
      "50/50 [==============================] - 6s 117ms/step - loss: 0.5000 - accuracy: 0.8632\n",
      "Epoch 45/150\n",
      "50/50 [==============================] - 6s 118ms/step - loss: 0.4692 - accuracy: 0.8717\n",
      "Epoch 46/150\n",
      "50/50 [==============================] - 6s 117ms/step - loss: 0.4601 - accuracy: 0.8750\n",
      "Epoch 47/150\n",
      "50/50 [==============================] - 6s 118ms/step - loss: 0.4339 - accuracy: 0.8811\n",
      "Epoch 48/150\n",
      "50/50 [==============================] - 6s 117ms/step - loss: 0.4193 - accuracy: 0.8866\n",
      "Epoch 49/150\n",
      "50/50 [==============================] - 6s 116ms/step - loss: 0.3965 - accuracy: 0.8926\n",
      "Epoch 50/150\n",
      "50/50 [==============================] - 6s 118ms/step - loss: 0.3767 - accuracy: 0.8976\n",
      "Epoch 51/150\n",
      "50/50 [==============================] - 6s 117ms/step - loss: 0.3724 - accuracy: 0.8988\n",
      "Epoch 52/150\n",
      "50/50 [==============================] - 6s 117ms/step - loss: 0.3471 - accuracy: 0.9064\n",
      "Epoch 53/150\n",
      "50/50 [==============================] - 6s 116ms/step - loss: 0.3452 - accuracy: 0.9067\n",
      "Epoch 54/150\n",
      "50/50 [==============================] - 6s 118ms/step - loss: 0.3172 - accuracy: 0.9147\n",
      "Epoch 55/150\n",
      "50/50 [==============================] - 6s 117ms/step - loss: 0.3221 - accuracy: 0.9134\n",
      "Epoch 56/150\n",
      "50/50 [==============================] - 6s 117ms/step - loss: 0.3172 - accuracy: 0.9136\n",
      "Epoch 57/150\n",
      "50/50 [==============================] - 6s 117ms/step - loss: 0.3011 - accuracy: 0.9190\n",
      "Epoch 58/150\n",
      "50/50 [==============================] - 6s 117ms/step - loss: 0.2934 - accuracy: 0.9207\n",
      "Epoch 59/150\n",
      "50/50 [==============================] - 6s 118ms/step - loss: 0.2816 - accuracy: 0.9247\n",
      "Epoch 60/150\n",
      "50/50 [==============================] - 6s 118ms/step - loss: 0.2735 - accuracy: 0.9270\n",
      "Epoch 61/150\n",
      "50/50 [==============================] - 6s 118ms/step - loss: 0.2575 - accuracy: 0.9310\n",
      "Epoch 62/150\n",
      "50/50 [==============================] - 6s 117ms/step - loss: 0.2503 - accuracy: 0.9322\n",
      "Epoch 63/150\n",
      "50/50 [==============================] - 6s 117ms/step - loss: 0.2482 - accuracy: 0.9337\n",
      "Epoch 64/150\n",
      "50/50 [==============================] - 6s 117ms/step - loss: 0.2357 - accuracy: 0.9361\n",
      "Epoch 65/150\n",
      "50/50 [==============================] - 6s 117ms/step - loss: 0.2318 - accuracy: 0.9378\n",
      "Epoch 66/150\n",
      "50/50 [==============================] - 6s 117ms/step - loss: 0.2228 - accuracy: 0.9402\n",
      "Epoch 67/150\n",
      "50/50 [==============================] - 6s 116ms/step - loss: 0.2122 - accuracy: 0.9430\n",
      "Epoch 68/150\n",
      "50/50 [==============================] - 6s 117ms/step - loss: 0.2067 - accuracy: 0.9445\n",
      "Epoch 69/150\n",
      "50/50 [==============================] - 6s 116ms/step - loss: 0.2099 - accuracy: 0.9439\n",
      "Epoch 70/150\n",
      "50/50 [==============================] - 6s 117ms/step - loss: 0.1919 - accuracy: 0.9486\n",
      "Epoch 71/150\n",
      "50/50 [==============================] - 6s 117ms/step - loss: 0.1963 - accuracy: 0.9474\n",
      "Epoch 72/150\n",
      "50/50 [==============================] - 6s 118ms/step - loss: 0.1888 - accuracy: 0.9493\n",
      "Epoch 73/150\n",
      "50/50 [==============================] - 6s 118ms/step - loss: 0.1815 - accuracy: 0.9511\n",
      "Epoch 74/150\n",
      "50/50 [==============================] - 6s 116ms/step - loss: 0.1802 - accuracy: 0.9513\n",
      "Epoch 75/150\n",
      "50/50 [==============================] - 6s 119ms/step - loss: 0.1848 - accuracy: 0.9491\n",
      "Epoch 76/150\n",
      "50/50 [==============================] - 6s 117ms/step - loss: 0.1828 - accuracy: 0.9495\n",
      "Epoch 77/150\n",
      "50/50 [==============================] - 6s 117ms/step - loss: 0.1840 - accuracy: 0.9488\n",
      "Epoch 78/150\n",
      "50/50 [==============================] - 6s 118ms/step - loss: 0.1785 - accuracy: 0.9500\n",
      "Epoch 79/150\n",
      "50/50 [==============================] - 6s 118ms/step - loss: 0.1842 - accuracy: 0.9478\n",
      "Epoch 80/150\n",
      "50/50 [==============================] - 6s 120ms/step - loss: 0.1861 - accuracy: 0.9462\n",
      "Epoch 81/150\n",
      "50/50 [==============================] - 6s 117ms/step - loss: 0.1819 - accuracy: 0.9470\n",
      "Epoch 82/150\n",
      "50/50 [==============================] - 6s 118ms/step - loss: 0.1798 - accuracy: 0.9477\n",
      "Epoch 83/150\n",
      "50/50 [==============================] - 6s 117ms/step - loss: 0.1822 - accuracy: 0.9472\n",
      "Epoch 84/150\n",
      "50/50 [==============================] - 6s 117ms/step - loss: 0.1828 - accuracy: 0.9465\n",
      "Epoch 85/150\n",
      "50/50 [==============================] - 6s 117ms/step - loss: 0.1778 - accuracy: 0.9475\n",
      "Epoch 86/150\n",
      "50/50 [==============================] - 6s 117ms/step - loss: 0.1763 - accuracy: 0.9477\n",
      "Epoch 87/150\n",
      "50/50 [==============================] - 6s 117ms/step - loss: 0.1810 - accuracy: 0.9466\n",
      "Epoch 88/150\n",
      "50/50 [==============================] - 6s 116ms/step - loss: 0.1736 - accuracy: 0.9484\n",
      "Epoch 89/150\n",
      "50/50 [==============================] - 6s 119ms/step - loss: 0.1735 - accuracy: 0.9485\n",
      "Epoch 90/150\n",
      "50/50 [==============================] - 6s 119ms/step - loss: 0.1717 - accuracy: 0.9489\n",
      "Epoch 91/150\n",
      "50/50 [==============================] - 6s 118ms/step - loss: 0.1670 - accuracy: 0.9503\n",
      "Epoch 92/150\n",
      "50/50 [==============================] - 6s 118ms/step - loss: 0.1696 - accuracy: 0.9493\n",
      "Epoch 93/150\n",
      "50/50 [==============================] - 6s 118ms/step - loss: 0.1680 - accuracy: 0.9499\n",
      "Epoch 94/150\n",
      "50/50 [==============================] - 6s 118ms/step - loss: 0.1636 - accuracy: 0.9507\n",
      "Epoch 95/150\n",
      "50/50 [==============================] - 6s 117ms/step - loss: 0.1658 - accuracy: 0.9500\n",
      "Epoch 96/150\n",
      "50/50 [==============================] - 6s 119ms/step - loss: 0.1618 - accuracy: 0.9514\n",
      "Epoch 97/150\n",
      "50/50 [==============================] - 6s 118ms/step - loss: 0.1654 - accuracy: 0.9505\n",
      "Epoch 98/150\n",
      "50/50 [==============================] - 6s 117ms/step - loss: 0.1621 - accuracy: 0.9508\n",
      "Epoch 99/150\n",
      "50/50 [==============================] - 6s 117ms/step - loss: 0.1564 - accuracy: 0.9526\n",
      "Epoch 100/150\n",
      "50/50 [==============================] - 6s 117ms/step - loss: 0.1534 - accuracy: 0.9541\n",
      "Epoch 101/150\n",
      "50/50 [==============================] - 6s 116ms/step - loss: 0.1496 - accuracy: 0.9552\n",
      "Epoch 102/150\n",
      "50/50 [==============================] - 6s 115ms/step - loss: 0.1427 - accuracy: 0.9575\n",
      "Epoch 103/150\n",
      "50/50 [==============================] - 6s 116ms/step - loss: 0.1443 - accuracy: 0.9570\n",
      "Epoch 104/150\n",
      "50/50 [==============================] - 6s 115ms/step - loss: 0.1405 - accuracy: 0.9583\n",
      "Epoch 105/150\n",
      "50/50 [==============================] - 6s 115ms/step - loss: 0.1386 - accuracy: 0.9585\n",
      "Epoch 106/150\n",
      "50/50 [==============================] - 6s 116ms/step - loss: 0.1348 - accuracy: 0.9599\n",
      "Epoch 107/150\n",
      "50/50 [==============================] - 6s 117ms/step - loss: 0.1339 - accuracy: 0.9602\n",
      "Epoch 108/150\n",
      "50/50 [==============================] - 6s 118ms/step - loss: 0.1351 - accuracy: 0.9597\n",
      "Epoch 109/150\n",
      "50/50 [==============================] - 6s 117ms/step - loss: 0.1327 - accuracy: 0.9606\n",
      "Epoch 110/150\n",
      "50/50 [==============================] - 6s 121ms/step - loss: 0.1311 - accuracy: 0.9606\n",
      "Epoch 111/150\n",
      "50/50 [==============================] - 6s 118ms/step - loss: 0.1296 - accuracy: 0.9615\n",
      "Epoch 112/150\n",
      "50/50 [==============================] - 6s 118ms/step - loss: 0.1374 - accuracy: 0.9583\n",
      "Epoch 113/150\n",
      "50/50 [==============================] - 6s 118ms/step - loss: 0.1396 - accuracy: 0.9571\n",
      "Epoch 114/150\n",
      "50/50 [==============================] - 6s 118ms/step - loss: 0.1478 - accuracy: 0.9539\n",
      "Epoch 115/150\n",
      "50/50 [==============================] - 6s 118ms/step - loss: 0.1502 - accuracy: 0.9530\n",
      "Epoch 116/150\n",
      "50/50 [==============================] - 6s 117ms/step - loss: 0.1610 - accuracy: 0.9489\n",
      "Epoch 117/150\n",
      "50/50 [==============================] - 6s 118ms/step - loss: 0.1724 - accuracy: 0.9438\n",
      "Epoch 118/150\n",
      "50/50 [==============================] - 6s 117ms/step - loss: 0.1946 - accuracy: 0.9365\n",
      "Epoch 119/150\n",
      "50/50 [==============================] - 6s 117ms/step - loss: 0.2150 - accuracy: 0.9287\n",
      "Epoch 120/150\n",
      "50/50 [==============================] - 6s 119ms/step - loss: 0.2429 - accuracy: 0.9193\n",
      "Epoch 121/150\n",
      "50/50 [==============================] - 6s 117ms/step - loss: 0.2646 - accuracy: 0.9117\n",
      "Epoch 122/150\n",
      "50/50 [==============================] - 6s 117ms/step - loss: 0.2770 - accuracy: 0.9076\n",
      "Epoch 123/150\n",
      "50/50 [==============================] - 6s 116ms/step - loss: 0.2731 - accuracy: 0.9086\n",
      "Epoch 124/150\n",
      "50/50 [==============================] - 6s 117ms/step - loss: 0.2722 - accuracy: 0.9098\n",
      "Epoch 125/150\n",
      "50/50 [==============================] - 6s 116ms/step - loss: 0.2502 - accuracy: 0.9171\n",
      "Epoch 126/150\n",
      "50/50 [==============================] - 6s 117ms/step - loss: 0.2311 - accuracy: 0.9241\n",
      "Epoch 127/150\n",
      "50/50 [==============================] - 6s 117ms/step - loss: 0.2010 - accuracy: 0.9343\n",
      "Epoch 128/150\n",
      "50/50 [==============================] - 6s 117ms/step - loss: 0.1693 - accuracy: 0.9459\n",
      "Epoch 129/150\n",
      "50/50 [==============================] - 6s 117ms/step - loss: 0.1496 - accuracy: 0.9532\n",
      "Epoch 130/150\n",
      "50/50 [==============================] - 6s 118ms/step - loss: 0.1306 - accuracy: 0.9604\n",
      "Epoch 131/150\n",
      "50/50 [==============================] - 6s 118ms/step - loss: 0.1166 - accuracy: 0.9653\n",
      "Epoch 132/150\n",
      "50/50 [==============================] - 6s 117ms/step - loss: 0.0980 - accuracy: 0.9721\n",
      "Epoch 133/150\n",
      "50/50 [==============================] - 6s 117ms/step - loss: 0.0857 - accuracy: 0.9763\n",
      "Epoch 134/150\n",
      "50/50 [==============================] - 6s 117ms/step - loss: 0.0783 - accuracy: 0.9785\n",
      "Epoch 135/150\n",
      "50/50 [==============================] - 6s 117ms/step - loss: 0.0699 - accuracy: 0.9808\n",
      "Epoch 136/150\n",
      "50/50 [==============================] - 6s 118ms/step - loss: 0.0652 - accuracy: 0.9823\n",
      "Epoch 137/150\n",
      "50/50 [==============================] - 6s 116ms/step - loss: 0.0574 - accuracy: 0.9848\n",
      "Epoch 138/150\n",
      "50/50 [==============================] - 6s 118ms/step - loss: 0.0509 - accuracy: 0.9864\n",
      "Epoch 139/150\n",
      "50/50 [==============================] - 6s 117ms/step - loss: 0.0478 - accuracy: 0.9872\n",
      "Epoch 140/150\n",
      "50/50 [==============================] - 6s 119ms/step - loss: 0.0463 - accuracy: 0.9873\n",
      "Epoch 141/150\n",
      "50/50 [==============================] - 6s 117ms/step - loss: 0.0433 - accuracy: 0.9880\n",
      "Epoch 142/150\n",
      "50/50 [==============================] - 6s 117ms/step - loss: 0.0410 - accuracy: 0.9885\n",
      "Epoch 143/150\n",
      "50/50 [==============================] - 6s 118ms/step - loss: 0.0407 - accuracy: 0.9885\n",
      "Epoch 144/150\n",
      "50/50 [==============================] - 6s 117ms/step - loss: 0.0401 - accuracy: 0.9885\n",
      "Epoch 145/150\n",
      "50/50 [==============================] - 6s 119ms/step - loss: 0.0389 - accuracy: 0.9888\n",
      "Epoch 146/150\n",
      "50/50 [==============================] - 6s 118ms/step - loss: 0.0375 - accuracy: 0.9891\n",
      "Epoch 147/150\n",
      "50/50 [==============================] - 6s 118ms/step - loss: 0.0366 - accuracy: 0.9892\n",
      "Epoch 148/150\n",
      "50/50 [==============================] - 6s 118ms/step - loss: 0.0367 - accuracy: 0.9890\n",
      "Epoch 149/150\n",
      "50/50 [==============================] - 6s 118ms/step - loss: 0.0361 - accuracy: 0.9894\n",
      "Epoch 150/150\n",
      "50/50 [==============================] - 6s 120ms/step - loss: 0.0357 - accuracy: 0.9893\n"
     ]
    }
   ],
   "source": [
    "# Use only for very big datasets, to make the dataset repetitive and specify steps per epoch/batches per epoch\n",
    "tmp_dataset = dataset_train.repeat()\n",
    "history = None\n",
    "\n",
    "if TRAIN == True and DATASET == 0:\n",
    "    history = model.fit(dataset_train, epochs=EPOCHS, callbacks=[checkpoint_callback])\n",
    "if TRAIN == True and DATASET == 1:\n",
    "    history = model.fit(dataset_train, epochs=EPOCHS, callbacks=[checkpoint_callback])"
   ]
  },
  {
   "cell_type": "code",
   "execution_count": 148,
   "metadata": {
    "id": "CK5KmlgeLH-n"
   },
   "outputs": [],
   "source": [
    "# Evaluate the model on the test data using `evaluate`\n",
    "def eval_model(model):\n",
    "    print(\"Evaluate on test data:\")\n",
    "    results = model.evaluate(dataset_test, batch_size=1)\n",
    "    print(\"Test loss: {}, test accuracy: {}\".format(results[0], results[1]))"
   ]
  },
  {
   "cell_type": "code",
   "execution_count": 149,
   "metadata": {
    "colab": {
     "base_uri": "https://localhost:8080/"
    },
    "id": "IdTWGqHgLH-n",
    "outputId": "78e80f94-7ca4-4b50-ff63-3e1cbb516629"
   },
   "outputs": [
    {
     "name": "stdout",
     "output_type": "stream",
     "text": [
      "Evaluate on test data:\n",
      "5/5 [==============================] - 1s 44ms/step - loss: 0.0514 - accuracy: 0.9875\n",
      "Test loss: 0.051428306847810745, test accuracy: 0.9875312447547913\n"
     ]
    }
   ],
   "source": [
    "eval_model(model)"
   ]
  },
  {
   "cell_type": "code",
   "execution_count": 150,
   "metadata": {
    "id": "bTiTH_ml52_U"
   },
   "outputs": [],
   "source": [
    "def render_training_history(training_history):\n",
    "    if training_history == None:\n",
    "        return\n",
    "    \n",
    "    loss = training_history.history['loss']\n",
    "    accuracy = training_history.history['accuracy']\n",
    "    \n",
    "    f, (ax1, ax2) = plt.subplots(1, 2, sharey=False, figsize=(15,9))\n",
    "    ax1.set_title('Loss')\n",
    "    ax1.set_xlabel('Epoch')\n",
    "    ax1.set_ylabel('Loss')\n",
    "    ax1.plot(loss, label='Training set')\n",
    "    ax1.legend()\n",
    "    ax1.grid(linestyle='--', linewidth=1, alpha=0.5)\n",
    "    \n",
    "    ax2.clear()\n",
    "    ax2.set_title('Accuracy')\n",
    "    ax2.set_xlabel('Epoch')\n",
    "    ax2.set_ylabel('Accuracy')\n",
    "    ax2.plot(accuracy, label='Training set')\n",
    "    ax2.legend()\n",
    "    ax2.grid(linestyle='--', linewidth=1, alpha=0.5)\n",
    "    plt.show()"
   ]
  },
  {
   "cell_type": "code",
   "execution_count": 151,
   "metadata": {
    "colab": {
     "base_uri": "https://localhost:8080/",
     "height": 567
    },
    "id": "ePbvOfdn52_V",
    "outputId": "1e03b53d-e82a-4efd-c3ea-59795e7f35db"
   },
   "outputs": [
    {
     "data": {
      "image/png": "[encoded data removed]",
      "text/plain": [
       "<Figure size 1080x648 with 2 Axes>"
      ]
     },
     "metadata": {
      "needs_background": "light",
      "tags": []
     },
     "output_type": "display_data"
    }
   ],
   "source": [
    "render_training_history(history)"
   ]
  },
  {
   "cell_type": "code",
   "execution_count": 152,
   "metadata": {
    "id": "RoE8O7qt52_V"
   },
   "outputs": [],
   "source": [
    "class SavedModel(tf.keras.Model):\n",
    "    def __init__(self, model, ids_to_chars, chars_to_ids, name=None):\n",
    "        super().__init__()\n",
    "        self.model = model\n",
    "        self.ids_to_chars = ids_to_chars\n",
    "        self.chars_to_ids = chars_to_ids\n",
    "        skip_ids = self.chars_to_ids(['','[UNK]'])[:, None]\n",
    "        sparse_mask = tf.SparseTensor(\n",
    "            values=[-float('inf')]*len(skip_ids),\n",
    "            indices = skip_ids,\n",
    "            dense_shape=[len(chars_to_ids.get_vocabulary())]) \n",
    "        self.prediction_mask = tf.sparse.to_dense(sparse_mask)\n",
    "\n",
    "    @tf.function\n",
    "    def generate(self, inputs, states=None):\n",
    "        input_chars = tf.strings.unicode_split(inputs, 'UTF-8')\n",
    "        input_ids = self.chars_to_ids(input_chars).to_tensor()\n",
    "        predicted_logits, states =  self.model(inputs=input_ids, states=states, return_state=True)\n",
    "        predicted_logits = predicted_logits[:, -1, :]\n",
    "        predicted_logits = predicted_logits\n",
    "        predicted_logits = predicted_logits + self.prediction_mask\n",
    "\n",
    "        predicted_ids = tf.random.categorical(predicted_logits, num_samples=1)\n",
    "        predicted_ids = tf.squeeze(predicted_ids, axis=-1)\n",
    "        predicted_chars = self.ids_to_chars(predicted_ids)\n",
    "        return predicted_chars, states"
   ]
  },
  {
   "cell_type": "code",
   "execution_count": 153,
   "metadata": {
    "id": "khdwg5ryLH-o"
   },
   "outputs": [],
   "source": [
    "saved_model = SavedModel(model, ids_to_chars, chars_to_ids)"
   ]
  },
  {
   "cell_type": "code",
   "execution_count": 154,
   "metadata": {
    "colab": {
     "base_uri": "https://localhost:8080/"
    },
    "id": "08Tik5BQLH-p",
    "outputId": "3e6c418f-7f6d-41b9-b60a-8f52d8265a03"
   },
   "outputs": [
    {
     "name": "stdout",
     "output_type": "stream",
     "text": [
      "\tУмря и аз съм ги аз!“\r\n",
      "\tТогаз Самуил клак чуден\r\n",
      "\tот треската горят;\r\n",
      "\tот три ден и носил нови,\r\n",
      "\tпод жертви страховити\r\n",
      "\tги посрещнаха завчас\r\n",
      "\tи на данея сладостна ръжен.\r\n",
      "\r\n",
      "\tВдъхновените за добро е на всички страстни,\r\n",
      "\tв нощ о ридствуй, продавах прах,\r\n",
      "\tконе се ти отравям и нашия тирануци и вно.\r\n",
      "\tДе хубави сърца в въздуха ненадежния шъмни\r\n",
      "\tдушата ми с благодатните родни\r\n",
      "\tв боя тежки със нази сече грях,\r\n",
      "\tразбра в света, в бриятното ското,\r\n",
      "\tу има мъристи, толкоз години,\r\n",
      "\tвмена една славний орея.\r\n",
      "\r\n",
      "\t* * *\r\n",
      "\r\n",
      "\tВ братска уплашен при светата\r\n",
      "\tи по начин на Цета.\r\n",
      "\r\n",
      "\tВиждах Повучени и движина,\r\n",
      "\tпленителна робиня,\r\n",
      "\tвеч немастен — ти светлейше.\r\n",
      "\r\n",
      "\tНо не бой се от диви рани\r\n",
      "\tот мен изпроводе свой\r\n",
      "\tвъзвирала, той кръвта — само\r\n",
      "\t\tвика с генерало\r\n",
      "\tнаште майки, деца\r\n",
      "\tсе крий в речта: „Не се бога\r\n",
      "\tтой фаннаово, каже млада.\r\n",
      "\tКого на съдбата няма\r\n",
      "\tкок е жално, майчице мила,\r\n",
      "\tбратя кат гледам в тия часове,\r\n",
      "\tзла още слабнем, че внимава.\r\n",
      "\tВелик си по-друг отечество\r\n",
      "\tгаснец, за др \n",
      "\n",
      "________________________________________________________________________________\n",
      "\n",
      "Run time: 2.4731533527374268\n"
     ]
    }
   ],
   "source": [
    "start = time.time()\n",
    "states = None\n",
    "next_char = tf.constant(['\\tУ'])\n",
    "result = [next_char]\n",
    "\n",
    "for n in range(1000):\n",
    "    next_char, states = saved_model.generate(next_char, states=states)\n",
    "    result.append(next_char)\n",
    "\n",
    "result = tf.strings.join(result)\n",
    "end = time.time()\n",
    "\n",
    "print(decode(result[0]), '\\n\\n' + '_'*80)\n",
    "\n",
    "print(f\"\\nRun time: {end - start}\")"
   ]
  },
  {
   "cell_type": "code",
   "execution_count": 157,
   "metadata": {
    "colab": {
     "base_uri": "https://localhost:8080/"
    },
    "id": "j2fV6WLd52_W",
    "outputId": "7fb0ffec-af79-46dc-aa0b-2a7ab0fd867f"
   },
   "outputs": [
    {
     "name": "stderr",
     "output_type": "stream",
     "text": [
      "WARNING:absl:Found untraced functions such as gru_cell_4_layer_call_and_return_conditional_losses, gru_cell_4_layer_call_fn, gru_cell_4_layer_call_fn, gru_cell_4_layer_call_and_return_conditional_losses, gru_cell_4_layer_call_and_return_conditional_losses while saving (showing 5 of 5). These functions will not be directly callable after loading.\n",
      "WARNING:absl:Found untraced functions such as gru_cell_4_layer_call_and_return_conditional_losses, gru_cell_4_layer_call_fn, gru_cell_4_layer_call_fn, gru_cell_4_layer_call_and_return_conditional_losses, gru_cell_4_layer_call_and_return_conditional_losses while saving (showing 5 of 5). These functions will not be directly callable after loading.\n"
     ]
    }
   ],
   "source": [
    "tf.saved_model.save(saved_model, './best_models/generate-vazov')\n",
    "saved_model_vazov = tf.saved_model.load('./best_models/generate-vazov')"
   ]
  },
  {
   "cell_type": "code",
   "execution_count": 158,
   "metadata": {
    "colab": {
     "base_uri": "https://localhost:8080/"
    },
    "id": "hKmhImpJ52_X",
    "outputId": "47d3307e-85ef-42fe-d2f0-609b048d3082"
   },
   "outputs": [
    {
     "name": "stdout",
     "output_type": "stream",
     "text": [
      "\tУмрялата ни докарва На съвета ни слепи,\r\n",
      "\tи човеци — с доброто назъди и за радост;\r\n",
      "\t\t\tне се градил и слаб,\r\n",
      "\tи паднали подни въз неговия път.\r\n",
      "\r\n",
      "\tМного ли откличко изпълнило плодът,\r\n",
      "\tда бисума ръце и с песни, и старина.\r\n",
      "\r\n",
      "\tОтде ще ида в нашите плочи засмени,\r\n",
      "\tщо ги ваши над твойте планини.\r\n",
      "\r\n",
      "\tНищо! Веч шумни, власин нашите вълни —\r\n",
      "\t\t\tфакато бесен!\r\n",
      "\r\n",
      "\tПо всички каква цена е нова да знам,\r\n",
      "\tи наванья взор да ви заран за боже час.\r\n",
      "\tОмая тоз народ се треби чрез народните полета\r\n",
      "\tсвети години бяха на дава срещаш,\r\n",
      "\tс поглед към свод се пръска за сфана страх вяра.\r\n",
      "\r\n",
      "\tОт страшни руси и потреперват\r\n",
      "\tи тоз хубав и чуден мрак;\r\n",
      "\tне от чувствува му свойта песен\r\n",
      "\tи няма ни слова, ни победи,\r\n",
      "\tостра сабя веки плесеняса,\r\n",
      "\tсилен боздуган ръжда изеде.\r\n",
      "\r\n",
      "\tКон ми хранен цвили във обори,\r\n",
      "\tядно сърце възкръснава\r\n",
      "\tи пред бога силни на небето\r\n",
      "\tзарад вашето дело проклето!\r\n",
      "\r\n",
      "\tНе към тебе се обръщам ази,\r\n",
      "\tскупено ще съм ме посряща,\r\n",
      "\tтой в движ връх над малките въстаници;\r\n",
      "\tземльо на тия към жаждата,\r\n",
      "\t\tда чуй благато дала;\r\n",
      "\r\n",
      "\tкули моде, пълна със вървентава,\r\n",
      "\tчовек народа от умрял и глав.\r\n",
      "\r\n",
      "\tВ бурливата над мене жива,\r\n",
      "\tзасполун пред свещта, кат герой,\r\n",
      "\tна крисоките — малката душа!\r\n",
      "\r\n",
      "\tТой си шапката си я все венчава\r\n",
      "\tда не му се отплате трепери.\r\n",
      "\r\n",
      "\tПолваряте бяха черви песни\r\n",
      "\tи въздуха й калската —\r\n",
      "\t\tв миналото чи име.\r\n",
      "\r\n",
      "\tМоите песни кои картина\r\n",
      "\r\n",
      "\r\n",
      "\tМръкнах лирада и светъл,\r\n",
      "\tи аз ще го саби домовено,\r\n",
      "\tи умряхта на света замана\r\n",
      "\tв нови жардви, с побрача видях.\r\n",
      "\r\n",
      "\tМекедом на съдбата няма\r\n",
      "\t\tкъм твоя два студена?\r\n",
      "\tСтранний радост, прелестни я?\r\n",
      "\tЛеки послушай що се сплетят,\r\n",
      "\tи цял народ отчаян срам\r\n",
      "\tи твоят импор цар усети…\r\n",
      "\tМомице, скръбта си повервар,\r\n",
      "\tи пълни с кокали полени —\r\n",
      "\tпри Тунджа, Тимок и при Вит;\r\n",
      "\tвред, дето робът жаловен —\r\n",
      "\tв речта ми възлива Митай,\r\n",
      "\tто във негонят грозен ад\r\n",
      "\tот фантазий плодовити,\r\n",
      "\tс? измислени, открити!\r\n",
      "\tТоз огън не умирам\r\n",
      "\tмоя стих железанен, —\r\n",
      "\tда умре минер — не знам,\r\n",
      "\tдяво й чолякът, болгарче,\r\n",
      "\tна примеда ч\n"
     ]
    }
   ],
   "source": [
    "states = None\n",
    "next_char = tf.constant(['\\tУ'])\n",
    "result = [next_char]\n",
    "\n",
    "for n in range(2000):\n",
    "    next_char, states = saved_model_vazov.generate(next_char, states=states)\n",
    "    result.append(next_char)\n",
    "\n",
    "print(decode(tf.strings.join(result)[0]))"
   ]
  },
  {
   "cell_type": "code",
   "execution_count": 3,
   "metadata": {
    "id": "5Al2aK9dLH-q"
   },
   "outputs": [],
   "source": [
    "saved_model_wikipedia = tf.saved_model.load('./best_models/generate-wiki')"
   ]
  },
  {
   "cell_type": "code",
   "execution_count": 6,
   "metadata": {
    "id": "ZM4r5m9PLH-q"
   },
   "outputs": [
    {
     "name": "stdout",
     "output_type": "stream",
     "text": [
      "София и „Свети Никола“ в Коловия (с Коврувини“, „България, че годишено нощо състояние на апостолите);\n",
      " Кастелен кудет на Община Бенева и Северна Америка през 2008 – 2010 a Hames of the Namit forma: Beam 50, 3, 11\n",
      " 15 – 10, 1970, 1907 - 76,3\n",
      " „Anther of the Egeines“\n",
      "  Рилски Стефан в (пощинска църковнак)\n",
      " \n",
      "Срещя зеонит Na String е вид птица от семейство Acriotarisi.com. Rambar Ridion Scayo Plans ard temen inlexitad Prasf() e 2014.\n",
      " \"Gost Cieter“. Bioch Krenn: Klomy Promnel Pecryl. През 1948 г. е заместник-председател на Съюзник гласуван (16 октомври 1790, Бавка, Сканийски наредени, 2013, Асиан I Холандски острови), Санстефанския (Александър Па) Санлдема. Спарта на АделРия ди Ми-нис женин за областта е още 18 години. Според музиката на Карлово се намира около 180 срещу скуката, между всички елементи на РСВ основават Георги Занаяв. На Екерозападния щаб на Византийското произход за nicum = strciere.\n",
      "\n",
      "На север от предните блек метъл \n",
      "Авгорство е част от капитания:Паралични гори (десети)\n",
      "виж Homychonxiur\n",
      "\n",
      "Категория:Кнеполски гети и горски биографи\n",
      "Ешна община Стоянове срещу Егейско море, Рим са по-известни и местно полезни и сериили някого си намести, домакин на еврейските училища при споснаване на тези сгражи, или поклонни изображения. Научно хайдурски автомобилен регистър на тимът за отличие от тази връзка, като се съгласява критика за съвместно деление на Япония на 29 май. Той прислежили базирани на планината Ида най-често поради три в кръстословия качетогозини, а даречи каксни буфи. В съкротващите военни съоръжения: Инчетеново става нелинейна владее нарасява реатникатна коби – един памформата. Те са основани от ранените от десния кракции заедно с 8 – 1 0 7 от околните тибетър (както във вътрешно-теритерната)тката писателка. Тази серия Доровесел е спасител на по-новите термини, когато влиянието му кмили и остават разбира се, че специфични условия - патрогически и средно 11 души. Голяма анотика между главните съответно на 5 ноември 1969 г. придобива показател. Към долната част на букинистите в Пармения е Касий Корнелий е било и посока замества Заводния си съюз с Джоа. Докато се заери в нея става предложение от война. Това също използва появата на българин и се вдига най-вече с реакция на защитена хора, а на Продоки, където е произведено от многобройни в Галичникова гора, въпреки това Четър Карпон. Според конструкцията и „Суламон връчване на сингълът им видео зеолитовите минерали в защитените от ренографските договори от района ружи система, за което е заместник-командир на д-р Берородокорат).\n",
      "\n",
      "Дължина стандартер с алкарнски военности, аналогично снежно по-носка мъжкото рани, в която основни едночисти.\n",
      "\n",
      "Соловете през 2006 г., за да решите са големина над 80 души.\n",
      "\n",
      "Ставрева и излат като война с 5 гола критична състава екипа на източния бог. Титът му е била постоянно десети протезисявани на нелегашното имущество 2004 и с колели покривка с уреда. Така се разглежда създаването на живота си, за да документа на Spocigent Scheym University Krügy, PikaTow, Agustory, приключително радиусът за унгарски произходнически статии или за дъщеря силе) – Досев, български офицер, генерал-майор, спортист (Свигот).\n",
      "\n",
      "В началото хайна с тратята са с опростен на българския работи (буквални) е извършвано. По това време твърди героизонит и турски човешката територия в САЩ и Карл, както и да се върне към годеника, като последен е само няколко десени звезди в еврейската пополага. Вскан и бойните знае често обучава за протекът на където започва да изпревеното, но променян от Цариградската конференция със снежате. Присъдителната подробна тайна му Нино, основана от Австрийската коне е в сградата. Докато диаметър или баща ѝ е такава докладва, че е ужерел и са червени балищни буни, където са наричани черни опити да възстановили, виняни на техните редици.\n",
      "\n",
      "Хидера́зваленият от мисията \n",
      "През 1943 г. с леките на Тодор Славков е онипечайно показател. Роден е на 23 номено от реката. Тук е имало и наградата „Благове“ в българското селото е било използване на български, наличие и бягнато от времето на втората името на Бойцидест на Втората световна война, а на юг, но това време със степение през 1403 г., за стари събития човековид може да споез съпротива за пръсти.\n",
      "\n",
      "Предвижда изгряващи калденични сили в Айкикай и Апо \" 3 мол се избирателно движение, което се е изобразяващ класичен ранен избор: граф „Велико разполага“, макар че наименованието ѝ като „сайт на групата трябва други църкви и уставя във войната с комедителите на Къстър, лакотация между други места средното борско училище с цел предаване на удастъпен център в Йохан Рийо, Албари, Малодий и окупацията на следните години за тях предходните романи, фенери от инфраймстър. Мозиката за заболяването на серията (създаването на синтетично затруди окончателното обрастения в ЕПрид и Зеландия. Според Тавие оттаква Доя все пак украинците основават нови дуни, които проваля в творбите му са месионалото си. Те са публичноизмажени на обратно време сървайвър, пристигнал или съветник на съществуващите запади и вой\n"
     ]
    }
   ],
   "source": [
    "states = None\n",
    "next_char = tf.constant(['С'])\n",
    "result = [next_char]\n",
    "\n",
    "for n in range(5000):\n",
    "    next_char, states = saved_model_wikipedia.generate(next_char, states=states)\n",
    "    result.append(next_char)\n",
    "\n",
    "print(decode(tf.strings.join(result)[0]))"
   ]
  },
  {
   "cell_type": "code",
   "execution_count": null,
   "metadata": {
    "id": "xjxrjZ3aLH-q"
   },
   "outputs": [],
   "source": []
  }
 ],
 "metadata": {
  "accelerator": "GPU",
  "colab": {
   "collapsed_sections": [],
   "name": "rnn-text-generator.ipynb",
   "provenance": []
  },
  "kernelspec": {
   "display_name": "NLP",
   "language": "python",
   "name": "nlp"
  },
  "language_info": {
   "codemirror_mode": {
    "name": "ipython",
    "version": 3
   },
   "file_extension": ".py",
   "mimetype": "text/x-python",
   "name": "python",
   "nbconvert_exporter": "python",
   "pygments_lexer": "ipython3",
   "version": "3.6.12"
  }
 },
 "nbformat": 4,
 "nbformat_minor": 1
}
